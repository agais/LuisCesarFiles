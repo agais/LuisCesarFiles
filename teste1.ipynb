{
  "nbformat": 4,
  "nbformat_minor": 0,
  "metadata": {
    "colab": {
      "name": "teste1.ipynb",
      "provenance": [],
      "authorship_tag": "ABX9TyM9OwNFgeb3kPvFx9ai+Jkv",
      "include_colab_link": true
    },
    "kernelspec": {
      "name": "python3",
      "display_name": "Python 3"
    }
  },
  "cells": [
    {
      "cell_type": "markdown",
      "metadata": {
        "id": "view-in-github",
        "colab_type": "text"
      },
      "source": [
        "<a href=\"https://colab.research.google.com/github/agais/LuisCesarFiles/blob/master/teste1.ipynb\" target=\"_parent\"><img src=\"https://colab.research.google.com/assets/colab-badge.svg\" alt=\"Open In Colab\"/></a>"
      ]
    },
    {
      "cell_type": "code",
      "metadata": {
        "id": "kF-zJRt5nIgw",
        "colab_type": "code",
        "colab": {}
      },
      "source": [
        ""
      ],
      "execution_count": null,
      "outputs": []
    },
    {
      "cell_type": "code",
      "metadata": {
        "id": "K19fzoHonNys",
        "colab_type": "code",
        "colab": {
          "base_uri": "https://localhost:8080/",
          "height": 221
        },
        "outputId": "7c59d35b-06ab-47bd-e421-5009e4c4b0f1"
      },
      "source": [
        "#Estrutura operações com 'list'  - Ordenar forma crescente / decrescente / Seleçoes\n",
        "\n",
        "# Entrada de dados  / list\n",
        "nomes = ['Luis', 'Yuli', 'Sebatião', 'Maria', 'José', 'Kris', 'Pedro', 'Ney', 'Paulo', 'Roy']\n",
        "\n",
        "# Processamento\n",
        "\n",
        "crescente = sorted(nomes)  # ordenar de forma crescente\n",
        "invertido = sorted(nomes, reverse = True)  # ordenar de forma decrescente\n",
        "\n",
        "# Saída de dados \n",
        "print('Lista atual .....:', nomes)\n",
        "print('Lista alfabética.:', crescente)\n",
        "print('Lista descendente: ', invertido)\n",
        "\n",
        "# Saída de dados  / Seleção\n",
        "print(crescente[0]) # imprimir dado da 1ª posição\n",
        "print(crescente[2:5]) # imprimir crescente da posição 2 até a 5\n",
        "print(crescente[:5]) # imprimir até a posição 5\n",
        "print(crescente[2:]) # imprimir a partir da posição 2\n",
        "print(crescente[:-3]) # imprimir exlcuindo as 3 últimas posições\n",
        "print(crescente[-5:]) # imprimir exlcuindo as 5 primeiras posições\n",
        "print(crescente[-5:-3]) # imprimir exlcuindo as 5 primeiras e as 3 útimas posições posições\n",
        "\n",
        "# Encerrar !!!\n",
        "enter = input('\\nPressione [ENTER] para encerrar.')"
      ],
      "execution_count": null,
      "outputs": [
        {
          "output_type": "stream",
          "text": [
            "Lista atual .....: ['Luis', 'Yuli', 'Sebatião', 'Maria', 'José', 'Kris', 'Pedro', 'Ney', 'Paulo', 'Roy']\n",
            "Lista alfabética.: ['José', 'Kris', 'Luis', 'Maria', 'Ney', 'Paulo', 'Pedro', 'Roy', 'Sebatião', 'Yuli']\n",
            "Lista descendente:  ['Yuli', 'Sebatião', 'Roy', 'Pedro', 'Paulo', 'Ney', 'Maria', 'Luis', 'Kris', 'José']\n",
            "José\n",
            "['Luis', 'Maria', 'Ney']\n",
            "['José', 'Kris', 'Luis', 'Maria', 'Ney']\n",
            "['Luis', 'Maria', 'Ney', 'Paulo', 'Pedro', 'Roy', 'Sebatião', 'Yuli']\n",
            "['José', 'Kris', 'Luis', 'Maria', 'Ney', 'Paulo', 'Pedro']\n",
            "['Paulo', 'Pedro', 'Roy', 'Sebatião', 'Yuli']\n",
            "['Paulo', 'Pedro']\n",
            "\n",
            "Pressione [ENTER] para encerrar.\n"
          ],
          "name": "stdout"
        }
      ]
    }
  ]
}